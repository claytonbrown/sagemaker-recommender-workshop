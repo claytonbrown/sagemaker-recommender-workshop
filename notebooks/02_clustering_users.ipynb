{
 "cells": [
  {
   "cell_type": "code",
   "execution_count": 6,
   "metadata": {},
   "outputs": [],
   "source": [
    "import pandas as pd\n",
    "import numpy as np\n",
    "import sagemaker\n",
    "from sagemaker import get_execution_role\n",
    "\n",
    "role = get_execution_role()"
   ]
  },
  {
   "cell_type": "code",
   "execution_count": 7,
   "metadata": {},
   "outputs": [
    {
     "name": "stderr",
     "output_type": "stream",
     "text": [
      "INFO:sagemaker:Created S3 bucket: sagemaker-us-east-1-306280812807\n"
     ]
    }
   ],
   "source": [
    "sess = sagemaker.Session()\n",
    "bucket = sess.default_bucket()"
   ]
  },
  {
   "cell_type": "code",
   "execution_count": 8,
   "metadata": {},
   "outputs": [
    {
     "name": "stdout",
     "output_type": "stream",
     "text": [
      "--2018-07-25 05:51:44--  http://files.grouplens.org/datasets/movielens/ml-100k.zip\n",
      "Resolving files.grouplens.org (files.grouplens.org)... 128.101.34.235\n",
      "Connecting to files.grouplens.org (files.grouplens.org)|128.101.34.235|:80... connected.\n",
      "HTTP request sent, awaiting response... 200 OK\n",
      "Length: 4924029 (4.7M) [application/zip]\n",
      "Saving to: ‘/tmp/ml-100k.zip’\n",
      "\n",
      "/tmp/ml-100k.zip    100%[===================>]   4.70M  21.3MB/s    in 0.2s    \n",
      "\n",
      "2018-07-25 05:51:45 (21.3 MB/s) - ‘/tmp/ml-100k.zip’ saved [4924029/4924029]\n",
      "\n",
      "Archive:  /tmp/ml-100k.zip\n",
      "  inflating: /tmp/ml-100k/allbut.pl  \n",
      "  inflating: /tmp/ml-100k/mku.sh     \n",
      "  inflating: /tmp/ml-100k/README     \n",
      "  inflating: /tmp/ml-100k/u.data     \n",
      "  inflating: /tmp/ml-100k/u.genre    \n",
      "  inflating: /tmp/ml-100k/u.info     \n",
      "  inflating: /tmp/ml-100k/u.item     \n",
      "  inflating: /tmp/ml-100k/u.occupation  \n",
      "  inflating: /tmp/ml-100k/u.user     \n",
      "  inflating: /tmp/ml-100k/u1.base    \n",
      "  inflating: /tmp/ml-100k/u1.test    \n",
      "  inflating: /tmp/ml-100k/u2.base    \n",
      "  inflating: /tmp/ml-100k/u2.test    \n",
      "  inflating: /tmp/ml-100k/u3.base    \n",
      "  inflating: /tmp/ml-100k/u3.test    \n",
      "  inflating: /tmp/ml-100k/u4.base    \n",
      "  inflating: /tmp/ml-100k/u4.test    \n",
      "  inflating: /tmp/ml-100k/u5.base    \n",
      "  inflating: /tmp/ml-100k/u5.test    \n",
      "  inflating: /tmp/ml-100k/ua.base    \n",
      "  inflating: /tmp/ml-100k/ua.test    \n",
      "  inflating: /tmp/ml-100k/ub.base    \n",
      "  inflating: /tmp/ml-100k/ub.test    \n"
     ]
    }
   ],
   "source": [
    "# NOTE: this step is not strictly required if you've already run the 01_... notebook\n",
    "!rm -f /tmp/ml-100k.zip\n",
    "!rm -rf /tmp/ml-100k\n",
    "!wget -O /tmp/ml-100k.zip http://files.grouplens.org/datasets/movielens/ml-100k.zip\n",
    "!unzip -j -o /tmp/ml-100k.zip -d /tmp/ml-100k"
   ]
  },
  {
   "cell_type": "code",
   "execution_count": 9,
   "metadata": {},
   "outputs": [
    {
     "data": {
      "text/html": [
       "<div>\n",
       "<style scoped>\n",
       "    .dataframe tbody tr th:only-of-type {\n",
       "        vertical-align: middle;\n",
       "    }\n",
       "\n",
       "    .dataframe tbody tr th {\n",
       "        vertical-align: top;\n",
       "    }\n",
       "\n",
       "    .dataframe thead th {\n",
       "        text-align: right;\n",
       "    }\n",
       "</style>\n",
       "<table border=\"1\" class=\"dataframe\">\n",
       "  <thead>\n",
       "    <tr style=\"text-align: right;\">\n",
       "      <th></th>\n",
       "      <th>age</th>\n",
       "      <th>gender</th>\n",
       "      <th>occupation</th>\n",
       "    </tr>\n",
       "    <tr>\n",
       "      <th>userid</th>\n",
       "      <th></th>\n",
       "      <th></th>\n",
       "      <th></th>\n",
       "    </tr>\n",
       "  </thead>\n",
       "  <tbody>\n",
       "    <tr>\n",
       "      <th>1</th>\n",
       "      <td>24</td>\n",
       "      <td>M</td>\n",
       "      <td>technician</td>\n",
       "    </tr>\n",
       "    <tr>\n",
       "      <th>2</th>\n",
       "      <td>53</td>\n",
       "      <td>F</td>\n",
       "      <td>other</td>\n",
       "    </tr>\n",
       "    <tr>\n",
       "      <th>3</th>\n",
       "      <td>23</td>\n",
       "      <td>M</td>\n",
       "      <td>writer</td>\n",
       "    </tr>\n",
       "    <tr>\n",
       "      <th>4</th>\n",
       "      <td>24</td>\n",
       "      <td>M</td>\n",
       "      <td>technician</td>\n",
       "    </tr>\n",
       "    <tr>\n",
       "      <th>5</th>\n",
       "      <td>33</td>\n",
       "      <td>F</td>\n",
       "      <td>other</td>\n",
       "    </tr>\n",
       "  </tbody>\n",
       "</table>\n",
       "</div>"
      ],
      "text/plain": [
       "        age gender  occupation\n",
       "userid                        \n",
       "1        24      M  technician\n",
       "2        53      F       other\n",
       "3        23      M      writer\n",
       "4        24      M  technician\n",
       "5        33      F       other"
      ]
     },
     "execution_count": 9,
     "metadata": {},
     "output_type": "execute_result"
    }
   ],
   "source": [
    "users = pd.read_csv(\"/tmp/ml-100k/u.user\", sep='|', header=None, index_col=['userid'],\n",
    "    names=['userid', 'age', 'gender', 'occupation', 'postal_code'])\n",
    "users = users.drop('postal_code',1)\n",
    "users.head()"
   ]
  },
  {
   "cell_type": "code",
   "execution_count": 10,
   "metadata": {},
   "outputs": [
    {
     "data": {
      "text/html": [
       "<div>\n",
       "<style scoped>\n",
       "    .dataframe tbody tr th:only-of-type {\n",
       "        vertical-align: middle;\n",
       "    }\n",
       "\n",
       "    .dataframe tbody tr th {\n",
       "        vertical-align: top;\n",
       "    }\n",
       "\n",
       "    .dataframe thead th {\n",
       "        text-align: right;\n",
       "    }\n",
       "</style>\n",
       "<table border=\"1\" class=\"dataframe\">\n",
       "  <thead>\n",
       "    <tr style=\"text-align: right;\">\n",
       "      <th></th>\n",
       "      <th>age</th>\n",
       "      <th>gender_F</th>\n",
       "      <th>gender_M</th>\n",
       "      <th>occupation_administrator</th>\n",
       "      <th>occupation_artist</th>\n",
       "      <th>occupation_doctor</th>\n",
       "      <th>occupation_educator</th>\n",
       "      <th>occupation_engineer</th>\n",
       "      <th>occupation_entertainment</th>\n",
       "      <th>occupation_executive</th>\n",
       "      <th>...</th>\n",
       "      <th>occupation_marketing</th>\n",
       "      <th>occupation_none</th>\n",
       "      <th>occupation_other</th>\n",
       "      <th>occupation_programmer</th>\n",
       "      <th>occupation_retired</th>\n",
       "      <th>occupation_salesman</th>\n",
       "      <th>occupation_scientist</th>\n",
       "      <th>occupation_student</th>\n",
       "      <th>occupation_technician</th>\n",
       "      <th>occupation_writer</th>\n",
       "    </tr>\n",
       "    <tr>\n",
       "      <th>userid</th>\n",
       "      <th></th>\n",
       "      <th></th>\n",
       "      <th></th>\n",
       "      <th></th>\n",
       "      <th></th>\n",
       "      <th></th>\n",
       "      <th></th>\n",
       "      <th></th>\n",
       "      <th></th>\n",
       "      <th></th>\n",
       "      <th></th>\n",
       "      <th></th>\n",
       "      <th></th>\n",
       "      <th></th>\n",
       "      <th></th>\n",
       "      <th></th>\n",
       "      <th></th>\n",
       "      <th></th>\n",
       "      <th></th>\n",
       "      <th></th>\n",
       "      <th></th>\n",
       "    </tr>\n",
       "  </thead>\n",
       "  <tbody>\n",
       "    <tr>\n",
       "      <th>1</th>\n",
       "      <td>24</td>\n",
       "      <td>0</td>\n",
       "      <td>1</td>\n",
       "      <td>0</td>\n",
       "      <td>0</td>\n",
       "      <td>0</td>\n",
       "      <td>0</td>\n",
       "      <td>0</td>\n",
       "      <td>0</td>\n",
       "      <td>0</td>\n",
       "      <td>...</td>\n",
       "      <td>0</td>\n",
       "      <td>0</td>\n",
       "      <td>0</td>\n",
       "      <td>0</td>\n",
       "      <td>0</td>\n",
       "      <td>0</td>\n",
       "      <td>0</td>\n",
       "      <td>0</td>\n",
       "      <td>1</td>\n",
       "      <td>0</td>\n",
       "    </tr>\n",
       "    <tr>\n",
       "      <th>2</th>\n",
       "      <td>53</td>\n",
       "      <td>1</td>\n",
       "      <td>0</td>\n",
       "      <td>0</td>\n",
       "      <td>0</td>\n",
       "      <td>0</td>\n",
       "      <td>0</td>\n",
       "      <td>0</td>\n",
       "      <td>0</td>\n",
       "      <td>0</td>\n",
       "      <td>...</td>\n",
       "      <td>0</td>\n",
       "      <td>0</td>\n",
       "      <td>1</td>\n",
       "      <td>0</td>\n",
       "      <td>0</td>\n",
       "      <td>0</td>\n",
       "      <td>0</td>\n",
       "      <td>0</td>\n",
       "      <td>0</td>\n",
       "      <td>0</td>\n",
       "    </tr>\n",
       "    <tr>\n",
       "      <th>3</th>\n",
       "      <td>23</td>\n",
       "      <td>0</td>\n",
       "      <td>1</td>\n",
       "      <td>0</td>\n",
       "      <td>0</td>\n",
       "      <td>0</td>\n",
       "      <td>0</td>\n",
       "      <td>0</td>\n",
       "      <td>0</td>\n",
       "      <td>0</td>\n",
       "      <td>...</td>\n",
       "      <td>0</td>\n",
       "      <td>0</td>\n",
       "      <td>0</td>\n",
       "      <td>0</td>\n",
       "      <td>0</td>\n",
       "      <td>0</td>\n",
       "      <td>0</td>\n",
       "      <td>0</td>\n",
       "      <td>0</td>\n",
       "      <td>1</td>\n",
       "    </tr>\n",
       "    <tr>\n",
       "      <th>4</th>\n",
       "      <td>24</td>\n",
       "      <td>0</td>\n",
       "      <td>1</td>\n",
       "      <td>0</td>\n",
       "      <td>0</td>\n",
       "      <td>0</td>\n",
       "      <td>0</td>\n",
       "      <td>0</td>\n",
       "      <td>0</td>\n",
       "      <td>0</td>\n",
       "      <td>...</td>\n",
       "      <td>0</td>\n",
       "      <td>0</td>\n",
       "      <td>0</td>\n",
       "      <td>0</td>\n",
       "      <td>0</td>\n",
       "      <td>0</td>\n",
       "      <td>0</td>\n",
       "      <td>0</td>\n",
       "      <td>1</td>\n",
       "      <td>0</td>\n",
       "    </tr>\n",
       "    <tr>\n",
       "      <th>5</th>\n",
       "      <td>33</td>\n",
       "      <td>1</td>\n",
       "      <td>0</td>\n",
       "      <td>0</td>\n",
       "      <td>0</td>\n",
       "      <td>0</td>\n",
       "      <td>0</td>\n",
       "      <td>0</td>\n",
       "      <td>0</td>\n",
       "      <td>0</td>\n",
       "      <td>...</td>\n",
       "      <td>0</td>\n",
       "      <td>0</td>\n",
       "      <td>1</td>\n",
       "      <td>0</td>\n",
       "      <td>0</td>\n",
       "      <td>0</td>\n",
       "      <td>0</td>\n",
       "      <td>0</td>\n",
       "      <td>0</td>\n",
       "      <td>0</td>\n",
       "    </tr>\n",
       "  </tbody>\n",
       "</table>\n",
       "<p>5 rows × 24 columns</p>\n",
       "</div>"
      ],
      "text/plain": [
       "        age  gender_F  gender_M  occupation_administrator  occupation_artist  \\\n",
       "userid                                                                         \n",
       "1        24         0         1                         0                  0   \n",
       "2        53         1         0                         0                  0   \n",
       "3        23         0         1                         0                  0   \n",
       "4        24         0         1                         0                  0   \n",
       "5        33         1         0                         0                  0   \n",
       "\n",
       "        occupation_doctor  occupation_educator  occupation_engineer  \\\n",
       "userid                                                                \n",
       "1                       0                    0                    0   \n",
       "2                       0                    0                    0   \n",
       "3                       0                    0                    0   \n",
       "4                       0                    0                    0   \n",
       "5                       0                    0                    0   \n",
       "\n",
       "        occupation_entertainment  occupation_executive        ...          \\\n",
       "userid                                                        ...           \n",
       "1                              0                     0        ...           \n",
       "2                              0                     0        ...           \n",
       "3                              0                     0        ...           \n",
       "4                              0                     0        ...           \n",
       "5                              0                     0        ...           \n",
       "\n",
       "        occupation_marketing  occupation_none  occupation_other  \\\n",
       "userid                                                            \n",
       "1                          0                0                 0   \n",
       "2                          0                0                 1   \n",
       "3                          0                0                 0   \n",
       "4                          0                0                 0   \n",
       "5                          0                0                 1   \n",
       "\n",
       "        occupation_programmer  occupation_retired  occupation_salesman  \\\n",
       "userid                                                                   \n",
       "1                           0                   0                    0   \n",
       "2                           0                   0                    0   \n",
       "3                           0                   0                    0   \n",
       "4                           0                   0                    0   \n",
       "5                           0                   0                    0   \n",
       "\n",
       "        occupation_scientist  occupation_student  occupation_technician  \\\n",
       "userid                                                                    \n",
       "1                          0                   0                      1   \n",
       "2                          0                   0                      0   \n",
       "3                          0                   0                      0   \n",
       "4                          0                   0                      1   \n",
       "5                          0                   0                      0   \n",
       "\n",
       "        occupation_writer  \n",
       "userid                     \n",
       "1                       0  \n",
       "2                       0  \n",
       "3                       1  \n",
       "4                       0  \n",
       "5                       0  \n",
       "\n",
       "[5 rows x 24 columns]"
      ]
     },
     "execution_count": 10,
     "metadata": {},
     "output_type": "execute_result"
    }
   ],
   "source": [
    "users_onehot=pd.get_dummies(users)\n",
    "users_onehot.head()"
   ]
  },
  {
   "cell_type": "code",
   "execution_count": 11,
   "metadata": {},
   "outputs": [
    {
     "name": "stdout",
     "output_type": "stream",
     "text": [
      "[[24.  0.  1. ...  0.  1.  0.]\n",
      " [53.  1.  0. ...  0.  0.  0.]\n",
      " [23.  0.  1. ...  0.  0.  1.]\n",
      " ...\n",
      " [20.  0.  1. ...  1.  0.  0.]\n",
      " [48.  1.  0. ...  0.  0.  0.]\n",
      " [22.  0.  1. ...  1.  0.  0.]]\n"
     ]
    }
   ],
   "source": [
    "users_onehot_df = users_onehot.values.astype(np.float32) # built-in K-Means requires float32\n",
    "print(users_onehot_df)"
   ]
  },
  {
   "cell_type": "code",
   "execution_count": 12,
   "metadata": {},
   "outputs": [
    {
     "name": "stdout",
     "output_type": "stream",
     "text": [
      "training data will be uploaded to: s3://sagemaker-us-east-1-306280812807/recommender_workshop/kmeans/data\n",
      "training artifacts will be uploaded to: s3://sagemaker-us-east-1-306280812807/recommender_workshop/kmeans/output\n"
     ]
    }
   ],
   "source": [
    "from sagemaker import KMeans\n",
    "\n",
    "data_location = 's3://{}/recommender_workshop/kmeans/data'.format(bucket)\n",
    "output_location = 's3://{}/recommender_workshop/kmeans/output'.format(bucket)\n",
    "\n",
    "print('training data will be uploaded to: {}'.format(data_location))\n",
    "print('training artifacts will be uploaded to: {}'.format(output_location))\n",
    "\n",
    "#!aws s3 cp /tmp/ml-100k/u.user $data_location/u.user\n",
    "\n",
    "k_value=5 #number of clusters\n",
    "kmeans = KMeans(role=role,\n",
    "                train_instance_count=1,\n",
    "                train_instance_type='ml.c4.2xlarge',\n",
    "                output_path=output_location,\n",
    "                k=k_value,\n",
    "                data_location=data_location)"
   ]
  },
  {
   "cell_type": "code",
   "execution_count": 13,
   "metadata": {},
   "outputs": [
    {
     "name": "stderr",
     "output_type": "stream",
     "text": [
      "INFO:sagemaker:Creating training-job with name: kmeans-2018-07-25-05-51-46-010\n"
     ]
    },
    {
     "name": "stdout",
     "output_type": "stream",
     "text": [
      "....................\n",
      "\u001b[31mDocker entrypoint called with argument(s): train\u001b[0m\n",
      "\u001b[31m[07/25/2018 05:54:55 INFO 140209577031488] Reading default configuration from /opt/amazon/lib/python2.7/site-packages/algorithm/default-input.json: {u'_tuning_objective_metric': u'', u'_num_gpus': u'auto', u'local_lloyd_num_trials': u'auto', u'_log_level': u'info', u'_kvstore': u'auto', u'local_lloyd_init_method': u'kmeans++', u'force_dense': u'true', u'epochs': u'1', u'init_method': u'random', u'local_lloyd_tol': u'0.0001', u'local_lloyd_max_iter': u'300', u'_disable_wait_to_read': u'false', u'extra_center_factor': u'auto', u'eval_metrics': u'[\"msd\"]', u'_num_kv_servers': u'1', u'mini_batch_size': u'5000', u'half_life_time_size': u'0', u'_num_slices': u'1'}\u001b[0m\n",
      "\u001b[31m[07/25/2018 05:54:55 INFO 140209577031488] Reading provided configuration from /opt/ml/input/config/hyperparameters.json: {u'feature_dim': u'24', u'k': u'5', u'force_dense': u'True'}\u001b[0m\n",
      "\u001b[31m[07/25/2018 05:54:55 INFO 140209577031488] Final configuration: {u'k': u'5', u'_tuning_objective_metric': u'', u'_num_gpus': u'auto', u'local_lloyd_num_trials': u'auto', u'_log_level': u'info', u'_kvstore': u'auto', u'local_lloyd_init_method': u'kmeans++', u'force_dense': u'True', u'epochs': u'1', u'init_method': u'random', u'feature_dim': u'24', u'local_lloyd_tol': u'0.0001', u'local_lloyd_max_iter': u'300', u'_disable_wait_to_read': u'false', u'extra_center_factor': u'auto', u'eval_metrics': u'[\"msd\"]', u'_num_kv_servers': u'1', u'mini_batch_size': u'5000', u'half_life_time_size': u'0', u'_num_slices': u'1'}\u001b[0m\n",
      "\u001b[31m[07/25/2018 05:54:55 WARNING 140209577031488] Loggers have already been setup.\u001b[0m\n",
      "\u001b[31m[07/25/2018 05:54:55 INFO 140209577031488] Using default worker.\u001b[0m\n",
      "\u001b[31m[07/25/2018 05:54:55 INFO 140209577031488] Loaded iterator creator application/x-recordio-protobuf for content type ('application/x-recordio-protobuf', '1.0')\u001b[0m\n",
      "\u001b[31m[07/25/2018 05:54:55 INFO 140209577031488] Create Store: local\u001b[0m\n",
      "\u001b[31m[07/25/2018 05:54:55 INFO 140209577031488] nvidia-smi took: 0.0251669883728 secs to identify 0 gpus\u001b[0m\n",
      "\u001b[31m[07/25/2018 05:54:55 INFO 140209577031488] Number of GPUs being used: 0\u001b[0m\n",
      "\u001b[31m[07/25/2018 05:54:55 INFO 140209577031488] Setting up with params: {u'k': u'5', u'_tuning_objective_metric': u'', u'_num_gpus': u'auto', u'local_lloyd_num_trials': u'auto', u'_log_level': u'info', u'_kvstore': u'auto', u'local_lloyd_init_method': u'kmeans++', u'force_dense': u'True', u'epochs': u'1', u'init_method': u'random', u'feature_dim': u'24', u'local_lloyd_tol': u'0.0001', u'local_lloyd_max_iter': u'300', u'_disable_wait_to_read': u'false', u'extra_center_factor': u'auto', u'eval_metrics': u'[\"msd\"]', u'_num_kv_servers': u'1', u'mini_batch_size': u'5000', u'half_life_time_size': u'0', u'_num_slices': u'1'}\u001b[0m\n",
      "\u001b[31m/opt/amazon/lib/python2.7/site-packages/ai_algorithms_sdk/config/config_helper.py:172: DeprecationWarning: deprecated\n",
      "  warnings.warn(\"deprecated\", DeprecationWarning)\u001b[0m\n",
      "\u001b[31m/opt/amazon/lib/python2.7/site-packages/ai_algorithms_sdk/config/config_helper.py:122: DeprecationWarning: deprecated\n",
      "  warnings.warn(\"deprecated\", DeprecationWarning)\u001b[0m\n",
      "\u001b[31m[07/25/2018 05:54:55 INFO 140209577031488] Number of GPUs being used: 0\u001b[0m\n",
      "\u001b[31m[07/25/2018 05:54:55 INFO 140209577031488] number of center slices 1\u001b[0m\n",
      "\u001b[31m[07/25/2018 05:54:55 WARNING 140209577031488] Batch size 5000 is bigger than the first batch data. Effective batch size used to initialize is 943\u001b[0m\n",
      "\u001b[31m#metrics {\"Metrics\": {\"Max Batches Seen Between Resets\": {\"count\": 1, \"max\": 1, \"sum\": 1.0, \"min\": 1}, \"Number of Batches Since Last Reset\": {\"count\": 1, \"max\": 1, \"sum\": 1.0, \"min\": 1}, \"Number of Records Since Last Reset\": {\"count\": 1, \"max\": 943, \"sum\": 943.0, \"min\": 943}, \"Total Batches Seen\": {\"count\": 1, \"max\": 1, \"sum\": 1.0, \"min\": 1}, \"Total Records Seen\": {\"count\": 1, \"max\": 943, \"sum\": 943.0, \"min\": 943}, \"Max Records Seen Between Resets\": {\"count\": 1, \"max\": 943, \"sum\": 943.0, \"min\": 943}, \"Reset Count\": {\"count\": 1, \"max\": 0, \"sum\": 0.0, \"min\": 0}}, \"EndTime\": 1532498095.71848, \"Dimensions\": {\"Host\": \"algo-1\", \"Meta\": \"init_train_data_iter\", \"Operation\": \"training\", \"Algorithm\": \"AWS/KMeansWebscale\"}, \"StartTime\": 1532498095.718445}\n",
      "\u001b[0m\n",
      "\u001b[31m[07/25/2018 05:54:55 INFO 140209577031488] processed a total of 943 examples\u001b[0m\n",
      "\u001b[31m[07/25/2018 05:54:55 INFO 140209577031488] #progress_metric: host=algo-1, completed 100 % of epochs\u001b[0m\n",
      "\u001b[31m#metrics {\"Metrics\": {\"Max Batches Seen Between Resets\": {\"count\": 1, \"max\": 1, \"sum\": 1.0, \"min\": 1}, \"Number of Batches Since Last Reset\": {\"count\": 1, \"max\": 1, \"sum\": 1.0, \"min\": 1}, \"Number of Records Since Last Reset\": {\"count\": 1, \"max\": 943, \"sum\": 943.0, \"min\": 943}, \"Total Batches Seen\": {\"count\": 1, \"max\": 2, \"sum\": 2.0, \"min\": 2}, \"Total Records Seen\": {\"count\": 1, \"max\": 1886, \"sum\": 1886.0, \"min\": 1886}, \"Max Records Seen Between Resets\": {\"count\": 1, \"max\": 943, \"sum\": 943.0, \"min\": 943}, \"Reset Count\": {\"count\": 1, \"max\": 1, \"sum\": 1.0, \"min\": 1}}, \"EndTime\": 1532498095.76438, \"Dimensions\": {\"Host\": \"algo-1\", \"Meta\": \"training_data_iter\", \"Operation\": \"training\", \"Algorithm\": \"AWS/KMeansWebscale\", \"epoch\": 0}, \"StartTime\": 1532498095.718803}\n",
      "\u001b[0m\n",
      "\u001b[31m[07/25/2018 05:54:55 INFO 140209577031488] #throughput_metric: host=algo-1, train throughput=20638.2010165 records/second\u001b[0m\n",
      "\u001b[31m[07/25/2018 05:54:55 WARNING 140209577031488] wait_for_all_workers will not sync workers since the kv store is not running distributed\u001b[0m\n",
      "\u001b[31m[07/25/2018 05:54:55 INFO 140209577031488] shrinking 50 centers into 5\u001b[0m\n",
      "\u001b[31m[07/25/2018 05:54:55 INFO 140209577031488] local kmeans attempt #0. Current mean square distance 9.340096\u001b[0m\n",
      "\u001b[31m[07/25/2018 05:54:55 INFO 140209577031488] local kmeans attempt #1. Current mean square distance 9.106901\u001b[0m\n",
      "\u001b[31m[07/25/2018 05:54:55 INFO 140209577031488] local kmeans attempt #2. Current mean square distance 8.796204\u001b[0m\n",
      "\u001b[31m[07/25/2018 05:54:55 INFO 140209577031488] local kmeans attempt #3. Current mean square distance 11.040133\u001b[0m\n",
      "\u001b[31m[07/25/2018 05:54:55 INFO 140209577031488] local kmeans attempt #4. Current mean square distance 9.133552\u001b[0m\n",
      "\u001b[31m[07/25/2018 05:54:55 INFO 140209577031488] local kmeans attempt #5. Current mean square distance 9.507485\u001b[0m\n",
      "\u001b[31m[07/25/2018 05:54:55 INFO 140209577031488] local kmeans attempt #6. Current mean square distance 9.133552\u001b[0m\n",
      "\u001b[31m[07/25/2018 05:54:55 INFO 140209577031488] local kmeans attempt #7. Current mean square distance 9.039117\u001b[0m\n",
      "\u001b[31m[07/25/2018 05:54:55 INFO 140209577031488] local kmeans attempt #8. Current mean square distance 9.507485\u001b[0m\n",
      "\u001b[31m[07/25/2018 05:54:55 INFO 140209577031488] local kmeans attempt #9. Current mean square distance 9.681465\u001b[0m\n",
      "\u001b[31m[07/25/2018 05:54:55 INFO 140209577031488] finished shrinking process. Mean Square Distance = 9\u001b[0m\n",
      "\u001b[31m[07/25/2018 05:54:55 INFO 140209577031488] #quality_metric: host=algo-1, train msd <loss>=8.79620361328\u001b[0m\n",
      "\u001b[31m[07/25/2018 05:54:55 INFO 140209577031488] compute all data-center distances: inner product took: 29.9759%, (0.014098 secs)\u001b[0m\n",
      "\u001b[31m[07/25/2018 05:54:55 INFO 140209577031488] compute all data-center distances: point norm took: 29.6419%, (0.013941 secs)\u001b[0m\n",
      "\u001b[31m[07/25/2018 05:54:55 INFO 140209577031488] gradient: cluster center took: 10.0504%, (0.004727 secs)\u001b[0m\n",
      "\u001b[31m[07/25/2018 05:54:55 INFO 140209577031488] predict compute msd took: 6.8613%, (0.003227 secs)\u001b[0m\n",
      "\u001b[31m[07/25/2018 05:54:55 INFO 140209577031488] batch data loading with context took: 6.7042%, (0.003153 secs)\u001b[0m\n",
      "\u001b[31m[07/25/2018 05:54:55 INFO 140209577031488] collect from kv store took: 4.9563%, (0.002331 secs)\u001b[0m\n",
      "\u001b[31m[07/25/2018 05:54:55 INFO 140209577031488] splitting centers key-value pair took: 4.7459%, (0.002232 secs)\u001b[0m\n",
      "\u001b[31m[07/25/2018 05:54:55 INFO 140209577031488] gradient: one_hot took: 4.3824%, (0.002061 secs)\u001b[0m\n",
      "\u001b[31m[07/25/2018 05:54:55 INFO 140209577031488] update state and report convergance took: 1.2242%, (0.000576 secs)\u001b[0m\n",
      "\u001b[31m[07/25/2018 05:54:55 INFO 140209577031488] gradient: cluster size  took: 0.6276%, (0.000295 secs)\u001b[0m\n",
      "\u001b[31m[07/25/2018 05:54:55 INFO 140209577031488] update set-up time took: 0.4319%, (0.000203 secs)\u001b[0m\n",
      "\u001b[31m[07/25/2018 05:54:55 INFO 140209577031488] compute all data-center distances: center norm took: 0.3447%, (0.000162 secs)\u001b[0m\n",
      "\u001b[31m[07/25/2018 05:54:55 INFO 140209577031488] predict minus dist took: 0.0532%, (0.000025 secs)\u001b[0m\n",
      "\u001b[31m[07/25/2018 05:54:55 INFO 140209577031488] TOTAL took: 0.0470316410065\u001b[0m\n",
      "\u001b[31m[07/25/2018 05:54:55 INFO 140209577031488] Number of GPUs being used: 0\u001b[0m\n",
      "\u001b[31m#metrics {\"Metrics\": {\"finalize.time\": {\"count\": 1, \"max\": 194.03600692749023, \"sum\": 194.03600692749023, \"min\": 194.03600692749023}, \"initialize.time\": {\"count\": 1, \"max\": 10.363101959228516, \"sum\": 10.363101959228516, \"min\": 10.363101959228516}, \"model.serialize.time\": {\"count\": 1, \"max\": 0.17404556274414062, \"sum\": 0.17404556274414062, \"min\": 0.17404556274414062}, \"update.time\": {\"count\": 1, \"max\": 45.387983322143555, \"sum\": 45.387983322143555, \"min\": 45.387983322143555}, \"epochs\": {\"count\": 1, \"max\": 1, \"sum\": 1.0, \"min\": 1}, \"state.serialize.time\": {\"count\": 1, \"max\": 0.22792816162109375, \"sum\": 0.22792816162109375, \"min\": 0.22792816162109375}, \"_shrink.time\": {\"count\": 1, \"max\": 192.31891632080078, \"sum\": 192.31891632080078, \"min\": 192.31891632080078}}, \"EndTime\": 1532498095.959277, \"Dimensions\": {\"Host\": \"algo-1\", \"Operation\": \"training\", \"Algorithm\": \"AWS/KMeansWebscale\"}, \"StartTime\": 1532498095.692427}\n",
      "\u001b[0m\n",
      "\u001b[31m[07/25/2018 05:54:55 INFO 140209577031488] Test data is not provided.\u001b[0m\n",
      "\u001b[31m#metrics {\"Metrics\": {\"totaltime\": {\"count\": 1, \"max\": 331.4859867095947, \"sum\": 331.4859867095947, \"min\": 331.4859867095947}, \"setuptime\": {\"count\": 1, \"max\": 9.849071502685547, \"sum\": 9.849071502685547, \"min\": 9.849071502685547}}, \"EndTime\": 1532498095.960766, \"Dimensions\": {\"Host\": \"algo-1\", \"Operation\": \"training\", \"Algorithm\": \"AWS/KMeansWebscale\"}, \"StartTime\": 1532498095.959407}\n",
      "\u001b[0m\n"
     ]
    },
    {
     "name": "stdout",
     "output_type": "stream",
     "text": [
      "===== Job Complete =====\n",
      "Billable seconds: 95\n",
      "CPU times: user 376 ms, sys: 48 ms, total: 424 ms\n",
      "Wall time: 3min 42s\n"
     ]
    }
   ],
   "source": [
    "%%time\n",
    "\n",
    "kmeans.fit(kmeans.record_set(users_onehot_df))"
   ]
  },
  {
   "cell_type": "code",
   "execution_count": 14,
   "metadata": {},
   "outputs": [
    {
     "name": "stderr",
     "output_type": "stream",
     "text": [
      "INFO:sagemaker:Creating model with name: kmeans-2018-07-25-05-55-28-450\n",
      "INFO:sagemaker:Creating endpoint with name kmeans-2018-07-25-05-51-46-010\n"
     ]
    },
    {
     "name": "stdout",
     "output_type": "stream",
     "text": [
      "--------------------------------------------------------------!CPU times: user 252 ms, sys: 28 ms, total: 280 ms\n",
      "Wall time: 5min 14s\n"
     ]
    }
   ],
   "source": [
    "%%time\n",
    "\n",
    "kmeans_predictor = kmeans.deploy(initial_instance_count=1,\n",
    "                                 instance_type='ml.m4.xlarge')"
   ]
  },
  {
   "cell_type": "code",
   "execution_count": 15,
   "metadata": {},
   "outputs": [
    {
     "data": {
      "text/html": [
       "<div>\n",
       "<style scoped>\n",
       "    .dataframe tbody tr th:only-of-type {\n",
       "        vertical-align: middle;\n",
       "    }\n",
       "\n",
       "    .dataframe tbody tr th {\n",
       "        vertical-align: top;\n",
       "    }\n",
       "\n",
       "    .dataframe thead th {\n",
       "        text-align: right;\n",
       "    }\n",
       "</style>\n",
       "<table border=\"1\" class=\"dataframe\">\n",
       "  <thead>\n",
       "    <tr style=\"text-align: right;\">\n",
       "      <th></th>\n",
       "      <th>age</th>\n",
       "      <th>gender_F</th>\n",
       "      <th>gender_M</th>\n",
       "      <th>occupation_other</th>\n",
       "      <th>occupation_technician</th>\n",
       "      <th>occupation_writer</th>\n",
       "    </tr>\n",
       "    <tr>\n",
       "      <th>userid</th>\n",
       "      <th></th>\n",
       "      <th></th>\n",
       "      <th></th>\n",
       "      <th></th>\n",
       "      <th></th>\n",
       "      <th></th>\n",
       "    </tr>\n",
       "  </thead>\n",
       "  <tbody>\n",
       "    <tr>\n",
       "      <th>1</th>\n",
       "      <td>24</td>\n",
       "      <td>0</td>\n",
       "      <td>1</td>\n",
       "      <td>0</td>\n",
       "      <td>1</td>\n",
       "      <td>0</td>\n",
       "    </tr>\n",
       "    <tr>\n",
       "      <th>2</th>\n",
       "      <td>53</td>\n",
       "      <td>1</td>\n",
       "      <td>0</td>\n",
       "      <td>1</td>\n",
       "      <td>0</td>\n",
       "      <td>0</td>\n",
       "    </tr>\n",
       "    <tr>\n",
       "      <th>3</th>\n",
       "      <td>23</td>\n",
       "      <td>0</td>\n",
       "      <td>1</td>\n",
       "      <td>0</td>\n",
       "      <td>0</td>\n",
       "      <td>1</td>\n",
       "    </tr>\n",
       "    <tr>\n",
       "      <th>4</th>\n",
       "      <td>24</td>\n",
       "      <td>0</td>\n",
       "      <td>1</td>\n",
       "      <td>0</td>\n",
       "      <td>1</td>\n",
       "      <td>0</td>\n",
       "    </tr>\n",
       "    <tr>\n",
       "      <th>5</th>\n",
       "      <td>33</td>\n",
       "      <td>1</td>\n",
       "      <td>0</td>\n",
       "      <td>1</td>\n",
       "      <td>0</td>\n",
       "      <td>0</td>\n",
       "    </tr>\n",
       "  </tbody>\n",
       "</table>\n",
       "</div>"
      ],
      "text/plain": [
       "        age  gender_F  gender_M  occupation_other  occupation_technician  \\\n",
       "userid                                                                     \n",
       "1        24         0         1                 0                      1   \n",
       "2        53         1         0                 1                      0   \n",
       "3        23         0         1                 0                      0   \n",
       "4        24         0         1                 0                      1   \n",
       "5        33         1         0                 1                      0   \n",
       "\n",
       "        occupation_writer  \n",
       "userid                     \n",
       "1                       0  \n",
       "2                       0  \n",
       "3                       1  \n",
       "4                       0  \n",
       "5                       0  "
      ]
     },
     "execution_count": 15,
     "metadata": {},
     "output_type": "execute_result"
    }
   ],
   "source": [
    "pd.get_dummies(users.head())"
   ]
  },
  {
   "cell_type": "code",
   "execution_count": 16,
   "metadata": {},
   "outputs": [
    {
     "name": "stdout",
     "output_type": "stream",
     "text": [
      "[label {\n",
      "  key: \"closest_cluster\"\n",
      "  value {\n",
      "    float32_tensor {\n",
      "      values: 2.0\n",
      "    }\n",
      "  }\n",
      "}\n",
      "label {\n",
      "  key: \"distance_to_cluster\"\n",
      "  value {\n",
      "    float32_tensor {\n",
      "      values: 3.0899548530578613\n",
      "    }\n",
      "  }\n",
      "}\n",
      ", label {\n",
      "  key: \"closest_cluster\"\n",
      "  value {\n",
      "    float32_tensor {\n",
      "      values: 1.0\n",
      "    }\n",
      "  }\n",
      "}\n",
      "label {\n",
      "  key: \"distance_to_cluster\"\n",
      "  value {\n",
      "    float32_tensor {\n",
      "      values: 5.11634635925293\n",
      "    }\n",
      "  }\n",
      "}\n",
      ", label {\n",
      "  key: \"closest_cluster\"\n",
      "  value {\n",
      "    float32_tensor {\n",
      "      values: 2.0\n",
      "    }\n",
      "  }\n",
      "}\n",
      "label {\n",
      "  key: \"distance_to_cluster\"\n",
      "  value {\n",
      "    float32_tensor {\n",
      "      values: 2.2019402980804443\n",
      "    }\n",
      "  }\n",
      "}\n",
      ", label {\n",
      "  key: \"closest_cluster\"\n",
      "  value {\n",
      "    float32_tensor {\n",
      "      values: 2.0\n",
      "    }\n",
      "  }\n",
      "}\n",
      "label {\n",
      "  key: \"distance_to_cluster\"\n",
      "  value {\n",
      "    float32_tensor {\n",
      "      values: 3.0899548530578613\n",
      "    }\n",
      "  }\n",
      "}\n",
      ", label {\n",
      "  key: \"closest_cluster\"\n",
      "  value {\n",
      "    float32_tensor {\n",
      "      values: 0.0\n",
      "    }\n",
      "  }\n",
      "}\n",
      "label {\n",
      "  key: \"distance_to_cluster\"\n",
      "  value {\n",
      "    float32_tensor {\n",
      "      values: 3.6156601905822754\n",
      "    }\n",
      "  }\n",
      "}\n",
      "]\n"
     ]
    }
   ],
   "source": [
    "result = kmeans_predictor.predict(users_onehot_df[0:5])\n",
    "print(result)"
   ]
  },
  {
   "cell_type": "code",
   "execution_count": 17,
   "metadata": {},
   "outputs": [],
   "source": [
    "result = kmeans_predictor.predict(users_onehot_df)\n",
    "\n",
    "cluster=[]\n",
    "for i in range(k_value):\n",
    "    cluster.append([r.label['distance_to_cluster'].float32_tensor.values[0] for r in result if r.label['closest_cluster'].float32_tensor.values[0] == i])\n",
    "\n",
    "cluster_zip = sorted(zip())\n"
   ]
  },
  {
   "cell_type": "code",
   "execution_count": 18,
   "metadata": {},
   "outputs": [
    {
     "data": {
      "text/plain": [
       "[]"
      ]
     },
     "execution_count": 18,
     "metadata": {},
     "output_type": "execute_result"
    },
    {
     "data": {
      "image/png": "[encoded data removed]",
      "text/plain": [
       "<Figure size 432x288 with 1 Axes>"
      ]
     },
     "metadata": {},
     "output_type": "display_data"
    },
    {
     "data": {
      "image/png": "[encoded data removed]",
      "text/plain": [
       "<Figure size 432x288 with 1 Axes>"
      ]
     },
     "metadata": {},
     "output_type": "display_data"
    },
    {
     "data": {
      "image/png": "[encoded data removed]",
      "text/plain": [
       "<Figure size 432x288 with 1 Axes>"
      ]
     },
     "metadata": {},
     "output_type": "display_data"
    },
    {
     "data": {
      "image/png": "[encoded data removed]",
      "text/plain": [
       "<Figure size 432x288 with 1 Axes>"
      ]
     },
     "metadata": {},
     "output_type": "display_data"
    },
    {
     "data": {
      "image/png": "[encoded data removed]",
      "text/plain": [
       "<Figure size 432x288 with 1 Axes>"
      ]
     },
     "metadata": {},
     "output_type": "display_data"
    }
   ],
   "source": [
    "%matplotlib inline\n",
    "import matplotlib.pyplot as plt\n",
    "\n",
    "for i in range(k_value):\n",
    "    fig,ax = plt.subplots()\n",
    "    ax.hist(cluster[i])\n",
    "\n",
    "plt.plot()"
   ]
  },
  {
   "cell_type": "code",
   "execution_count": 19,
   "metadata": {},
   "outputs": [
    {
     "name": "stderr",
     "output_type": "stream",
     "text": [
      "INFO:sagemaker:Deleting endpoint with name: kmeans-2018-07-25-05-51-46-010\n"
     ]
    }
   ],
   "source": [
    "import sagemaker\n",
    "sagemaker.Session().delete_endpoint(kmeans_predictor.endpoint)"
   ]
  },
  {
   "cell_type": "code",
   "execution_count": null,
   "metadata": {},
   "outputs": [],
   "source": []
  }
 ],
 "metadata": {
  "kernelspec": {
   "display_name": "conda_python3",
   "language": "python",
   "name": "conda_python3"
  },
  "language_info": {
   "codemirror_mode": {
    "name": "ipython",
    "version": 3
   },
   "file_extension": ".py",
   "mimetype": "text/x-python",
   "name": "python",
   "nbconvert_exporter": "python",
   "pygments_lexer": "ipython3",
   "version": "3.6.4"
  }
 },
 "nbformat": 4,
 "nbformat_minor": 2
}
